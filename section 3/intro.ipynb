{
 "cells": [
  {
   "cell_type": "markdown",
   "id": "bf843d40",
   "metadata": {},
   "source": [
    "### Basics of python\n",
    "\n",
    "we recapped fundamentals like variables, case sensitivity, indentation, single and multi line comments, type inference, which allows dynamic typing, name errors, "
   ]
  },
  {
   "cell_type": "markdown",
   "id": "0c917b15",
   "metadata": {},
   "source": []
  },
  {
   "cell_type": "code",
   "execution_count": 2,
   "id": "99a95121",
   "metadata": {},
   "outputs": [
    {
     "name": "stdout",
     "output_type": "stream",
     "text": [
      "211\n"
     ]
    }
   ],
   "source": [
    "# line continuation: if a line of code is too long, we can use a backslash `\\` to continue it on the next line. example:\n",
    "total=1+1 + 2 + 3 + 4 + 5 + 6 + 7 + 8 + 9 + \\\n",
    "10 + 11 + 12 + 13 + 14 + 15 + 16 + 17 + \\\n",
    "18 + 19 + 20\n",
    "print(total)"
   ]
  },
  {
   "cell_type": "code",
   "execution_count": 3,
   "id": "fe0c43ef",
   "metadata": {},
   "outputs": [
    {
     "name": "stdout",
     "output_type": "stream",
     "text": [
      "3\n"
     ]
    }
   ],
   "source": [
    "#we can type multiple lines of code in a single line by separating them with a semicolon `;`. example:\n",
    "a=1; b=2; c=a+b; print(c)"
   ]
  },
  {
   "cell_type": "code",
   "execution_count": null,
   "id": "96cfa943",
   "metadata": {},
   "outputs": [],
   "source": []
  }
 ],
 "metadata": {
  "kernelspec": {
   "display_name": "Python 3",
   "language": "python",
   "name": "python3"
  },
  "language_info": {
   "codemirror_mode": {
    "name": "ipython",
    "version": 3
   },
   "file_extension": ".py",
   "mimetype": "text/x-python",
   "name": "python",
   "nbconvert_exporter": "python",
   "pygments_lexer": "ipython3",
   "version": "3.12.0"
  }
 },
 "nbformat": 4,
 "nbformat_minor": 5
}
